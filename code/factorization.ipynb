{
 "cells": [
  {
   "cell_type": "markdown",
   "id": "1ef415bf-b5a9-465b-9c30-fc5178075670",
   "metadata": {},
   "source": [
    "## From Factorization to Period Finding\n",
    "\n",
    "Shor algorithm in classical computing steps:\n",
    "* Given $N$, pick a random integer $x$ between $1$ and $N$, and compute the greatest common divisor `gcd(x, N)` using Euclid's algorithm.\n",
    "* If $x$ and $N$ have some common prime factors, `gcd(x, N)` will be $p$ or $q$. Otherwise, `gcd(x, N) = 1`, $x$ and $N$ are coprime.\n",
    "* Let $r$ be the period of $x$ mod $N$ computed by the period finding machine. Repeat these steps with different random choices of $x$ until $r$ is even.\n",
    "* Then, $p$ and $q$ can be found by computing $gcd(x^{r/2} \\pm 1, N)$ as long as $x^{r/2} \\neq \\pm 1$"
   ]
  },
  {
   "cell_type": "code",
   "execution_count": 1,
   "id": "69d145ef-48ad-47dc-8709-6d6a768185b5",
   "metadata": {},
   "outputs": [],
   "source": [
    "import random, itertools\n",
    "import numpy as np\n",
    "\n",
    "from random import randint"
   ]
  },
  {
   "cell_type": "code",
   "execution_count": 2,
   "id": "2ababb84-103f-4bea-b1f8-3210df6e902d",
   "metadata": {},
   "outputs": [],
   "source": [
    "# Brute force period finding algorithm\n",
    "def find_period_classical(x, N):\n",
    "    n = 1\n",
    "    t = x\n",
    "    while t != 1:\n",
    "        t *= x\n",
    "        t %= N\n",
    "        n += 1\n",
    "    return n"
   ]
  },
  {
   "cell_type": "code",
   "execution_count": 3,
   "id": "be207805-ad03-4023-ae3e-3c41947938f6",
   "metadata": {},
   "outputs": [],
   "source": [
    "# Sieve of Eratosthenes algorithm\n",
    "def sieve():\n",
    "    D = {}\n",
    "    yield 2\n",
    "    for q in itertools.islice(itertools.count(3), 0, None, 2):\n",
    "        p = D.pop(q, None)\n",
    "        if p is None:\n",
    "            D[q*q] = q\n",
    "            yield q\n",
    "        else:\n",
    "            x = p + q\n",
    "            while x in D or not (x&1):\n",
    "                x += p\n",
    "            D[x] = p\n",
    "\n",
    "# Creates a list of prime numbers up to the given argument\n",
    "def get_primes_sieve(n):\n",
    "    L = list(itertools.takewhile(lambda p: p<n, sieve()))\n",
    "    return L\n",
    "\n",
    "def get_semiprime(n):\n",
    "    primes = get_primes_sieve(n)\n",
    "    l = len(primes)\n",
    "    p = primes[random.randrange(l)]\n",
    "    q = primes[random.randrange(l)]\n",
    "    return p*q\n",
    "\n",
    "N = get_semiprime(1000)\n"
   ]
  },
  {
   "cell_type": "code",
   "execution_count": null,
   "id": "f3b8286f-044c-48df-aa38-b957a07379b0",
   "metadata": {},
   "outputs": [],
   "source": []
  }
 ],
 "metadata": {
  "kernelspec": {
   "display_name": "Python 3 (ipykernel)",
   "language": "python",
   "name": "python3"
  },
  "language_info": {
   "codemirror_mode": {
    "name": "ipython",
    "version": 3
   },
   "file_extension": ".py",
   "mimetype": "text/x-python",
   "name": "python",
   "nbconvert_exporter": "python",
   "pygments_lexer": "ipython3",
   "version": "3.10.14"
  }
 },
 "nbformat": 4,
 "nbformat_minor": 5
}
